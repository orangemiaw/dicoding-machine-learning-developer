{
 "cells": [
  {
   "cell_type": "markdown",
   "metadata": {
    "id": "8C2QuR47aNgC"
   },
   "source": [
    "# NLP BBC News Classification based LSTM Algorithm\n",
    "\n",
    "Predict emotion from textual data : Multi-class text classification\n",
    "\n",
    "---\n",
    "\n",
    "**Training Accuracy**\n",
    "- loss: 0.41\n",
    "- acc: 100.00\n",
    "\n",
    "**Validation Accuracy**\n",
    "- loss: 44.98\n",
    "- acc: 91.01"
   ]
  },
  {
   "cell_type": "code",
   "execution_count": 20,
   "metadata": {
    "colab": {
     "base_uri": "https://localhost:8080/"
    },
    "id": "_aDQpd3FC3Bo",
    "outputId": "438ae340-7ddb-4d35-bbf0-7fcbd4aa6495"
   },
   "outputs": [
    {
     "name": "stdout",
     "output_type": "stream",
     "text": [
      "Requirement already satisfied: unidecode in /usr/local/lib/python3.7/dist-packages (1.2.0)\n",
      "Collecting chart_studio\n",
      "\u001b[?25l  Downloading https://files.pythonhosted.org/packages/ca/ce/330794a6b6ca4b9182c38fc69dd2a9cbff60fd49421cb8648ee5fee352dc/chart_studio-1.1.0-py3-none-any.whl (64kB)\n",
      "\u001b[K     |████████████████████████████████| 71kB 4.7MB/s \n",
      "\u001b[?25hRequirement already satisfied: requests in /usr/local/lib/python3.7/dist-packages (from chart_studio) (2.23.0)\n",
      "Requirement already satisfied: retrying>=1.3.3 in /usr/local/lib/python3.7/dist-packages (from chart_studio) (1.3.3)\n",
      "Requirement already satisfied: six in /usr/local/lib/python3.7/dist-packages (from chart_studio) (1.15.0)\n",
      "Requirement already satisfied: plotly in /usr/local/lib/python3.7/dist-packages (from chart_studio) (4.4.1)\n",
      "Requirement already satisfied: chardet<4,>=3.0.2 in /usr/local/lib/python3.7/dist-packages (from requests->chart_studio) (3.0.4)\n",
      "Requirement already satisfied: certifi>=2017.4.17 in /usr/local/lib/python3.7/dist-packages (from requests->chart_studio) (2021.5.30)\n",
      "Requirement already satisfied: idna<3,>=2.5 in /usr/local/lib/python3.7/dist-packages (from requests->chart_studio) (2.10)\n",
      "Requirement already satisfied: urllib3!=1.25.0,!=1.25.1,<1.26,>=1.21.1 in /usr/local/lib/python3.7/dist-packages (from requests->chart_studio) (1.24.3)\n",
      "Installing collected packages: chart-studio\n",
      "Successfully installed chart-studio-1.1.0\n"
     ]
    }
   ],
   "source": [
    "# install library needed\n",
    "!pip install -q kaggle\n",
    "!pip install unidecode\n",
    "!pip install chart_studio"
   ]
  },
  {
   "cell_type": "code",
   "execution_count": 186,
   "metadata": {
    "id": "Zefnt7-Pac6u"
   },
   "outputs": [],
   "source": [
    "# import library needed\n",
    "import nltk\n",
    "import spacy\n",
    "import string\n",
    "from unidecode import unidecode\n",
    "from nltk.corpus import stopwords\n",
    "from nltk.tokenize import word_tokenize, TweetTokenizer\n",
    "\n",
    "from tensorflow import keras\n",
    "from keras.optimizers import Adam\n",
    "from keras.models import Sequential, Model, load_model\n",
    "from keras.layers import Input, LSTM, Bidirectional, SpatialDropout1D, GlobalMaxPooling1D, Dropout, Flatten, Dense, Embedding, BatchNormalization\n",
    "from keras.callbacks import ModelCheckpoint, EarlyStopping, CSVLogger\n",
    "from keras.preprocessing.text import Tokenizer, text_to_word_sequence\n",
    "from keras.preprocessing.sequence import sequence, pad_sequences\n",
    "from keras.utils.vis_utils import plot_model\n",
    "\n",
    "from google.colab import files\n",
    "from google.colab import drive\n",
    "import matplotlib.pyplot as plt\n",
    "import matplotlib.image as mpimg\n",
    "from sklearn.model_selection import train_test_split\n",
    "from sklearn.metrics import classification_report, confusion_matrix, accuracy_score, precision_score, recall_score, f1_score\n",
    "import seaborn as sn\n",
    "import numpy as np\n",
    "import pandas as pd\n",
    "\n",
    "import os\n",
    "import re\n",
    "import time\n",
    "import uuid\n",
    "import warnings\n",
    "from IPython.display import Markdown\n",
    "from IPython.display import display\n",
    "from slugify import slugify\n",
    "import cufflinks as cf\n",
    "import plotly.io as pio"
   ]
  },
  {
   "cell_type": "code",
   "execution_count": 68,
   "metadata": {
    "colab": {
     "base_uri": "https://localhost:8080/",
     "height": 17
    },
    "id": "5ftyDY5OkAbC",
    "outputId": "02d1957c-7486-4838-ddf9-8a61fd18951a"
   },
   "outputs": [
    {
     "data": {
      "text/html": [
       "        <script type=\"text/javascript\">\n",
       "        window.PlotlyConfig = {MathJaxConfig: 'local'};\n",
       "        if (window.MathJax) {MathJax.Hub.Config({SVG: {font: \"STIX-Web\"}});}\n",
       "        if (typeof require !== 'undefined') {\n",
       "        require.undef(\"plotly\");\n",
       "        requirejs.config({\n",
       "            paths: {\n",
       "                'plotly': ['https://cdn.plot.ly/plotly-latest.min']\n",
       "            }\n",
       "        });\n",
       "        require(['plotly'], function(Plotly) {\n",
       "            window._Plotly = Plotly;\n",
       "        });\n",
       "        }\n",
       "        </script>\n",
       "        "
      ]
     },
     "metadata": {
      "tags": []
     },
     "output_type": "display_data"
    }
   ],
   "source": [
    "# ignore the unwanted warning messages\n",
    "warnings.filterwarnings('ignore')\n",
    "# enambling iplot\n",
    "cf.go_offline()\n",
    "pio.renderers.default = 'colab'"
   ]
  },
  {
   "cell_type": "code",
   "execution_count": 69,
   "metadata": {
    "colab": {
     "base_uri": "https://localhost:8080/"
    },
    "id": "d2XXge_lj-ab",
    "outputId": "7772f8b2-16ce-4078-a188-6225594340dc"
   },
   "outputs": [
    {
     "name": "stdout",
     "output_type": "stream",
     "text": [
      "[nltk_data] Downloading package wordnet to /root/nltk_data...\n",
      "[nltk_data]   Package wordnet is already up-to-date!\n",
      "[nltk_data] Downloading package stopwords to /root/nltk_data...\n",
      "[nltk_data]   Package stopwords is already up-to-date!\n"
     ]
    },
    {
     "data": {
      "text/plain": [
       "True"
      ]
     },
     "execution_count": 69,
     "metadata": {
      "tags": []
     },
     "output_type": "execute_result"
    }
   ],
   "source": [
    "# downloading nltk resource\n",
    "nltk.download('wordnet')\n",
    "nltk.download('stopwords')"
   ]
  },
  {
   "cell_type": "code",
   "execution_count": 71,
   "metadata": {
    "id": "3vOnnxfYagza"
   },
   "outputs": [],
   "source": [
    "# Define base path for worksheet\n",
    "BASE_PATH = '/content/drive/MyDrive/Playground/BBCNews'\n",
    "# No. of class\n",
    "NUM_CLASS=5\n",
    "# No. of number of samples that will be propagated through the network\n",
    "BATCH_SIZE=128\n",
    "# Learning rate\n",
    "LEARNING_RATE=0.001\n",
    "# Number of iterations\n",
    "EPOCH=50"
   ]
  },
  {
   "cell_type": "code",
   "execution_count": 6,
   "metadata": {
    "colab": {
     "base_uri": "https://localhost:8080/"
    },
    "id": "c7VJC1WibO0Z",
    "outputId": "c008cb01-f0f0-401d-d144-2fb2ce6b1aa1"
   },
   "outputs": [
    {
     "name": "stdout",
     "output_type": "stream",
     "text": [
      "Mounted at /content/drive\n"
     ]
    }
   ],
   "source": [
    "# mount our google drive\n",
    "drive.mount('/content/drive')"
   ]
  },
  {
   "cell_type": "markdown",
   "metadata": {
    "id": "UzsuVKjGk7dn"
   },
   "source": [
    "## Helper"
   ]
  },
  {
   "cell_type": "code",
   "execution_count": 166,
   "metadata": {
    "id": "mgCsSjEpk8wZ"
   },
   "outputs": [],
   "source": [
    "# Print in markdown format\n",
    "def printmd(string):\n",
    "    display(Markdown(string))\n",
    "\n",
    "# Plot training loss and accuracy\n",
    "def plot_training(history, title, save=True, save_path=os.path.join(BASE_PATH, 'visualization')):\n",
    "    printmd(\"### Training Loss and Accuracy\")\n",
    "    \n",
    "    acc = history.history['accuracy']\n",
    "    val_acc = history.history['val_accuracy']\n",
    "    loss = history.history['loss']\n",
    "    val_loss = history.history['val_loss']\n",
    "    epoch_list = range(1, len(acc) + 1)\n",
    "    \n",
    "    plt.figure(figsize=(8, 6))\n",
    "    plt.plot(loss, label='Training Loss')\n",
    "    plt.plot(val_loss, label='Validation Loss')\n",
    "    plt.legend(loc=0, fontsize='large')\n",
    "    plt.xlabel(\"Epoch #\", fontsize=14)\n",
    "    plt.ylabel(\"Loss\", fontsize=14)\n",
    "    plt.show()\n",
    "    \n",
    "    if save is True:\n",
    "        filename = slugify(title) + '_loss_model.png'\n",
    "        plt.savefig(save_path + '/' + filename)\n",
    "\n",
    "    plt.figure(figsize=(8, 6))\n",
    "    plt.plot(acc, label='Training Accuracy')\n",
    "    plt.plot(val_acc, label='Validation Accuracy')\n",
    "    plt.legend(loc=4, fontsize='large')\n",
    "    plt.xlabel(\"Epoch #\", fontsize=14)\n",
    "    plt.ylabel(\"Accuracy\", fontsize=14)\n",
    "    plt.show()\n",
    "    \n",
    "    if save is True:\n",
    "        filename = slugify(title) + '_acc_model.png'\n",
    "        plt.savefig(save_path + '/' + filename)\n",
    "\n",
    "# Table classification report\n",
    "def table_classification_report(classes, preds):\n",
    "    printmd('#### Classification Report')\n",
    "    target_names = ['business', 'entertainment', 'politics', 'sport', 'tech']\n",
    "    print(classification_report(classes, preds, target_names=target_names))\n",
    "\n",
    "    print('Accuracy: {:.2f}\\n'.format(accuracy_score(classes, preds)))\n",
    "\n",
    "    print('Macro Precision: {:.2f}'.format(precision_score(classes, preds, average='macro')))\n",
    "    print('Macro Recall: {:.2f}'.format(recall_score(classes, preds, average='macro')))\n",
    "    print('Macro F1-score: {:.2f}\\n'.format(f1_score(classes, preds, average='macro')))\n",
    "\n",
    "    print('Weighted Precision: {:.2f}'.format(precision_score(classes, preds, average='weighted')))\n",
    "    print('Weighted Recall: {:.2f}'.format(recall_score(classes, preds, average='weighted')))\n",
    "    print('Weighted F1-score: {:.2f}\\n'.format(f1_score(classes, preds, average='weighted')))\n",
    "\n",
    "# Evaluate model, confusion matrix and classification report\n",
    "def model_evaluation(title, model, x_train, x_test, y_train, y_test, save=True, save_path=os.path.join(BASE_PATH, 'visualization')):\n",
    "    printmd('### Training Accuracy')\n",
    "    loss, val_acc = model.evaluate(x_train, y_train, verbose=1)\n",
    "\n",
    "    print(\"loss: %.2f\" % (loss*100))\n",
    "    print(\"acc: %.2f\" % (val_acc*100))\n",
    "    \n",
    "    printmd('### Validation Accuracy')\n",
    "    loss, val_acc = model.evaluate(x_test, y_test, verbose=1)\n",
    "\n",
    "    print(\"loss: %.2f\" % (loss*100))\n",
    "    print(\"acc: %.2f\" % (val_acc*100))\n",
    "    \n",
    "    printmd('### Evaluation of Model Performance')\n",
    "    y_pred = model.predict(x_test, verbose=1)\n",
    "    \n",
    "    # Table classification report\n",
    "    table_classification_report(y_test, y_pred.round())"
   ]
  },
  {
   "cell_type": "markdown",
   "metadata": {
    "id": "QO1BuDlhbZuL"
   },
   "source": [
    "## Preprocessing"
   ]
  },
  {
   "cell_type": "markdown",
   "metadata": {
    "id": "pnFZFU89bbww"
   },
   "source": [
    "### Data Gatering"
   ]
  },
  {
   "cell_type": "code",
   "execution_count": 7,
   "metadata": {
    "colab": {
     "base_uri": "https://localhost:8080/",
     "height": 91,
     "resources": {
      "http://localhost:8080/nbextensions/google.colab/files.js": {
       "data": "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",
       "headers": [
        [
         "content-type",
         "application/javascript"
        ]
       ],
       "ok": true,
       "status": 200,
       "status_text": ""
      }
     }
    },
    "id": "WqmOxrrTbdjf",
    "outputId": "1a5d3717-9be0-4ae0-98bc-492407725398"
   },
   "outputs": [
    {
     "data": {
      "text/html": [
       "\n",
       "     <input type=\"file\" id=\"files-4859cd49-3ede-4ba4-8061-5bb8a8786ed2\" name=\"files[]\" multiple disabled\n",
       "        style=\"border:none\" />\n",
       "     <output id=\"result-4859cd49-3ede-4ba4-8061-5bb8a8786ed2\">\n",
       "      Upload widget is only available when the cell has been executed in the\n",
       "      current browser session. Please rerun this cell to enable.\n",
       "      </output>\n",
       "      <script src=\"/nbextensions/google.colab/files.js\"></script> "
      ],
      "text/plain": [
       "<IPython.core.display.HTML object>"
      ]
     },
     "metadata": {
      "tags": []
     },
     "output_type": "display_data"
    },
    {
     "name": "stdout",
     "output_type": "stream",
     "text": [
      "Saving kaggle.json to kaggle.json\n"
     ]
    },
    {
     "data": {
      "text/plain": [
       "{'kaggle.json': b'{\"username\":\"imamkusniadi\",\"key\":\"30fa97395ea7d3c066e0aff94a241f54\"}'}"
      ]
     },
     "execution_count": 7,
     "metadata": {
      "tags": []
     },
     "output_type": "execute_result"
    }
   ],
   "source": [
    "# upload kaggle.json\n",
    "files.upload()"
   ]
  },
  {
   "cell_type": "code",
   "execution_count": 8,
   "metadata": {
    "colab": {
     "base_uri": "https://localhost:8080/"
    },
    "id": "jOWhPjQNbjEX",
    "outputId": "d49ba928-e453-46c9-b1d6-cb9c28025454"
   },
   "outputs": [
    {
     "name": "stdout",
     "output_type": "stream",
     "text": [
      "kaggle.json\n"
     ]
    }
   ],
   "source": [
    "# make directory and change permission\n",
    "!mkdir -p ~/.kaggle && cp kaggle.json ~/.kaggle/ && chmod 600 ~/.kaggle/kaggle.json && ls ~/.kaggle"
   ]
  },
  {
   "cell_type": "code",
   "execution_count": 9,
   "metadata": {
    "colab": {
     "base_uri": "https://localhost:8080/"
    },
    "id": "DfQbXmrhblcM",
    "outputId": "71c4d167-2b02-4744-f9c9-4a83579f7eaf"
   },
   "outputs": [
    {
     "name": "stdout",
     "output_type": "stream",
     "text": [
      "Downloading bbc-fulltext-and-category.zip to /content\n",
      "\r",
      "  0% 0.00/1.83M [00:00<?, ?B/s]\n",
      "\r",
      "100% 1.83M/1.83M [00:00<00:00, 61.9MB/s]\n"
     ]
    }
   ],
   "source": [
    "# download the dataset\n",
    "!kaggle datasets download -d yufengdev/bbc-fulltext-and-category"
   ]
  },
  {
   "cell_type": "code",
   "execution_count": 11,
   "metadata": {
    "colab": {
     "base_uri": "https://localhost:8080/"
    },
    "id": "-yjIai4Wb53F",
    "outputId": "72f3a2de-1ced-4e09-d57d-5ac3427137d1"
   },
   "outputs": [
    {
     "name": "stdout",
     "output_type": "stream",
     "text": [
      "Archive:  bbc-fulltext-and-category.zip\n",
      "  inflating: /content/drive/MyDrive/Playground/BBCNews/bbc-text.csv  \n"
     ]
    }
   ],
   "source": [
    "# unziping dataset and move to playground\n",
    "!unzip bbc-fulltext-and-category.zip -d /content/drive/MyDrive/Playground/BBCNews/"
   ]
  },
  {
   "cell_type": "code",
   "execution_count": 12,
   "metadata": {
    "id": "uV-Skzm6cA9o"
   },
   "outputs": [],
   "source": [
    "# remove downloaded dataset\n",
    "!rm -rf bbc-fulltext-and-category.zip"
   ]
  },
  {
   "cell_type": "markdown",
   "metadata": {
    "id": "UyyBa7gBcGfX"
   },
   "source": [
    "### Load Dataset"
   ]
  },
  {
   "cell_type": "code",
   "execution_count": 14,
   "metadata": {
    "colab": {
     "base_uri": "https://localhost:8080/"
    },
    "id": "L52i54WvcIN5",
    "outputId": "193df0a3-0b6b-4a05-f1ce-6c15a4cfef5d"
   },
   "outputs": [
    {
     "name": "stdout",
     "output_type": "stream",
     "text": [
      "Dataset loaded ...\n"
     ]
    }
   ],
   "source": [
    "# load dataset\n",
    "dataset = os.path.join(BASE_PATH, 'bbc-text.csv')\n",
    "df = pd.read_csv(dataset, sep=',')\n",
    "print('Dataset loaded ...')"
   ]
  },
  {
   "cell_type": "markdown",
   "metadata": {
    "id": "3U3muEv-cO0a"
   },
   "source": [
    "### Data Exploration"
   ]
  },
  {
   "cell_type": "code",
   "execution_count": 15,
   "metadata": {
    "colab": {
     "base_uri": "https://localhost:8080/",
     "height": 205
    },
    "id": "gHAkApyxcQtm",
    "outputId": "8635aa1d-d9f6-40ec-e512-8b405496e7a1"
   },
   "outputs": [
    {
     "data": {
      "text/html": [
       "<div>\n",
       "<style scoped>\n",
       "    .dataframe tbody tr th:only-of-type {\n",
       "        vertical-align: middle;\n",
       "    }\n",
       "\n",
       "    .dataframe tbody tr th {\n",
       "        vertical-align: top;\n",
       "    }\n",
       "\n",
       "    .dataframe thead th {\n",
       "        text-align: right;\n",
       "    }\n",
       "</style>\n",
       "<table border=\"1\" class=\"dataframe\">\n",
       "  <thead>\n",
       "    <tr style=\"text-align: right;\">\n",
       "      <th></th>\n",
       "      <th>category</th>\n",
       "      <th>text</th>\n",
       "    </tr>\n",
       "  </thead>\n",
       "  <tbody>\n",
       "    <tr>\n",
       "      <th>0</th>\n",
       "      <td>tech</td>\n",
       "      <td>tv future in the hands of viewers with home th...</td>\n",
       "    </tr>\n",
       "    <tr>\n",
       "      <th>1</th>\n",
       "      <td>business</td>\n",
       "      <td>worldcom boss  left books alone  former worldc...</td>\n",
       "    </tr>\n",
       "    <tr>\n",
       "      <th>2</th>\n",
       "      <td>sport</td>\n",
       "      <td>tigers wary of farrell  gamble  leicester say ...</td>\n",
       "    </tr>\n",
       "    <tr>\n",
       "      <th>3</th>\n",
       "      <td>sport</td>\n",
       "      <td>yeading face newcastle in fa cup premiership s...</td>\n",
       "    </tr>\n",
       "    <tr>\n",
       "      <th>4</th>\n",
       "      <td>entertainment</td>\n",
       "      <td>ocean s twelve raids box office ocean s twelve...</td>\n",
       "    </tr>\n",
       "  </tbody>\n",
       "</table>\n",
       "</div>"
      ],
      "text/plain": [
       "        category                                               text\n",
       "0           tech  tv future in the hands of viewers with home th...\n",
       "1       business  worldcom boss  left books alone  former worldc...\n",
       "2          sport  tigers wary of farrell  gamble  leicester say ...\n",
       "3          sport  yeading face newcastle in fa cup premiership s...\n",
       "4  entertainment  ocean s twelve raids box office ocean s twelve..."
      ]
     },
     "execution_count": 15,
     "metadata": {
      "tags": []
     },
     "output_type": "execute_result"
    }
   ],
   "source": [
    "# get the first rows on dataset\n",
    "df.head()"
   ]
  },
  {
   "cell_type": "code",
   "execution_count": 16,
   "metadata": {
    "colab": {
     "base_uri": "https://localhost:8080/"
    },
    "id": "u38x0rH6cVaZ",
    "outputId": "548b4f2d-8de9-4978-d08c-7ac3c9c2d573"
   },
   "outputs": [
    {
     "data": {
      "text/plain": [
       "category    2225\n",
       "text        2225\n",
       "dtype: int64"
      ]
     },
     "execution_count": 16,
     "metadata": {
      "tags": []
     },
     "output_type": "execute_result"
    }
   ],
   "source": [
    "# total data\n",
    "df.count()"
   ]
  },
  {
   "cell_type": "code",
   "execution_count": 17,
   "metadata": {
    "colab": {
     "base_uri": "https://localhost:8080/"
    },
    "id": "VZdwbfIIcXKz",
    "outputId": "411f1cb6-6459-4a91-8db0-ef8335593480"
   },
   "outputs": [
    {
     "name": "stdout",
     "output_type": "stream",
     "text": [
      "<class 'pandas.core.frame.DataFrame'>\n",
      "RangeIndex: 2225 entries, 0 to 2224\n",
      "Data columns (total 2 columns):\n",
      " #   Column    Non-Null Count  Dtype \n",
      "---  ------    --------------  ----- \n",
      " 0   category  2225 non-null   object\n",
      " 1   text      2225 non-null   object\n",
      "dtypes: object(2)\n",
      "memory usage: 34.9+ KB\n"
     ]
    }
   ],
   "source": [
    "# data info\n",
    "df.info()"
   ]
  },
  {
   "cell_type": "code",
   "execution_count": 18,
   "metadata": {
    "colab": {
     "base_uri": "https://localhost:8080/"
    },
    "id": "_1YmIX0kcZBk",
    "outputId": "b5ce114b-42fc-47cf-9cf4-73657fd1884e"
   },
   "outputs": [
    {
     "data": {
      "text/plain": [
       "count      2225\n",
       "unique        5\n",
       "top       sport\n",
       "freq        511\n",
       "Name: category, dtype: object"
      ]
     },
     "execution_count": 18,
     "metadata": {
      "tags": []
     },
     "output_type": "execute_result"
    }
   ],
   "source": [
    "# simple metric study\n",
    "df['category'].describe()"
   ]
  },
  {
   "cell_type": "code",
   "execution_count": 30,
   "metadata": {
    "colab": {
     "base_uri": "https://localhost:8080/",
     "height": 542
    },
    "id": "xHaKsKPvcb1Y",
    "outputId": "8193be72-c5c2-4c49-b85c-79d1fd7bc942"
   },
   "outputs": [
    {
     "data": {
      "text/html": [
       "<html>\n",
       "<head><meta charset=\"utf-8\" /></head>\n",
       "<body>\n",
       "    <div>\n",
       "            <script src=\"https://cdnjs.cloudflare.com/ajax/libs/mathjax/2.7.5/MathJax.js?config=TeX-AMS-MML_SVG\"></script><script type=\"text/javascript\">if (window.MathJax) {MathJax.Hub.Config({SVG: {font: \"STIX-Web\"}});}</script>\n",
       "                <script type=\"text/javascript\">window.PlotlyConfig = {MathJaxConfig: 'local'};</script>\n",
       "        <script src=\"https://cdn.plot.ly/plotly-latest.min.js\"></script>    \n",
       "            <div id=\"0f03f008-08d1-4d5e-bde7-e2db72e7e3ae\" class=\"plotly-graph-div\" style=\"height:525px; width:100%;\"></div>\n",
       "            <script type=\"text/javascript\">\n",
       "                \n",
       "                    window.PLOTLYENV=window.PLOTLYENV || {};\n",
       "                    window.PLOTLYENV.BASE_URL='https://plot.ly';\n",
       "                    \n",
       "                if (document.getElementById(\"0f03f008-08d1-4d5e-bde7-e2db72e7e3ae\")) {\n",
       "                    Plotly.newPlot(\n",
       "                        '0f03f008-08d1-4d5e-bde7-e2db72e7e3ae',\n",
       "                        [{\"marker\": {\"color\": \"rgba(255, 153, 51, 0.6)\", \"line\": {\"color\": \"rgba(255, 153, 51, 1.0)\", \"width\": 1}}, \"name\": \"text\", \"orientation\": \"v\", \"text\": \"\", \"type\": \"bar\", \"x\": [\"business\", \"entertainment\", \"politics\", \"sport\", \"tech\"], \"y\": [510, 386, 417, 511, 401]}],\n",
       "                        {\"legend\": {\"bgcolor\": \"#F5F6F9\", \"font\": {\"color\": \"#4D5663\"}}, \"paper_bgcolor\": \"#F5F6F9\", \"plot_bgcolor\": \"#F5F6F9\", \"template\": {\"data\": {\"bar\": [{\"error_x\": {\"color\": \"#2a3f5f\"}, \"error_y\": {\"color\": \"#2a3f5f\"}, \"marker\": {\"line\": {\"color\": \"#E5ECF6\", \"width\": 0.5}}, \"type\": \"bar\"}], \"barpolar\": [{\"marker\": {\"line\": {\"color\": \"#E5ECF6\", \"width\": 0.5}}, \"type\": \"barpolar\"}], \"carpet\": [{\"aaxis\": {\"endlinecolor\": \"#2a3f5f\", \"gridcolor\": \"white\", \"linecolor\": \"white\", \"minorgridcolor\": \"white\", \"startlinecolor\": \"#2a3f5f\"}, \"baxis\": {\"endlinecolor\": \"#2a3f5f\", \"gridcolor\": \"white\", \"linecolor\": \"white\", \"minorgridcolor\": \"white\", \"startlinecolor\": \"#2a3f5f\"}, \"type\": \"carpet\"}], \"choropleth\": [{\"colorbar\": {\"outlinewidth\": 0, \"ticks\": \"\"}, \"type\": \"choropleth\"}], \"contour\": [{\"colorbar\": {\"outlinewidth\": 0, \"ticks\": \"\"}, \"colorscale\": [[0.0, \"#0d0887\"], [0.1111111111111111, \"#46039f\"], [0.2222222222222222, \"#7201a8\"], [0.3333333333333333, \"#9c179e\"], [0.4444444444444444, \"#bd3786\"], [0.5555555555555556, \"#d8576b\"], [0.6666666666666666, \"#ed7953\"], [0.7777777777777778, \"#fb9f3a\"], [0.8888888888888888, \"#fdca26\"], [1.0, \"#f0f921\"]], \"type\": \"contour\"}], \"contourcarpet\": [{\"colorbar\": {\"outlinewidth\": 0, \"ticks\": \"\"}, \"type\": \"contourcarpet\"}], \"heatmap\": [{\"colorbar\": {\"outlinewidth\": 0, \"ticks\": \"\"}, \"colorscale\": [[0.0, \"#0d0887\"], [0.1111111111111111, \"#46039f\"], [0.2222222222222222, \"#7201a8\"], [0.3333333333333333, \"#9c179e\"], [0.4444444444444444, \"#bd3786\"], [0.5555555555555556, \"#d8576b\"], [0.6666666666666666, \"#ed7953\"], [0.7777777777777778, \"#fb9f3a\"], [0.8888888888888888, \"#fdca26\"], [1.0, \"#f0f921\"]], \"type\": \"heatmap\"}], \"heatmapgl\": [{\"colorbar\": {\"outlinewidth\": 0, \"ticks\": \"\"}, \"colorscale\": [[0.0, \"#0d0887\"], [0.1111111111111111, \"#46039f\"], [0.2222222222222222, \"#7201a8\"], [0.3333333333333333, \"#9c179e\"], [0.4444444444444444, \"#bd3786\"], [0.5555555555555556, \"#d8576b\"], [0.6666666666666666, \"#ed7953\"], [0.7777777777777778, \"#fb9f3a\"], [0.8888888888888888, \"#fdca26\"], [1.0, \"#f0f921\"]], \"type\": \"heatmapgl\"}], \"histogram\": [{\"marker\": {\"colorbar\": {\"outlinewidth\": 0, \"ticks\": \"\"}}, \"type\": \"histogram\"}], \"histogram2d\": [{\"colorbar\": {\"outlinewidth\": 0, \"ticks\": \"\"}, \"colorscale\": [[0.0, \"#0d0887\"], [0.1111111111111111, \"#46039f\"], [0.2222222222222222, \"#7201a8\"], [0.3333333333333333, \"#9c179e\"], [0.4444444444444444, \"#bd3786\"], [0.5555555555555556, \"#d8576b\"], [0.6666666666666666, \"#ed7953\"], [0.7777777777777778, \"#fb9f3a\"], [0.8888888888888888, \"#fdca26\"], [1.0, \"#f0f921\"]], \"type\": \"histogram2d\"}], \"histogram2dcontour\": [{\"colorbar\": {\"outlinewidth\": 0, \"ticks\": \"\"}, \"colorscale\": [[0.0, \"#0d0887\"], [0.1111111111111111, \"#46039f\"], [0.2222222222222222, \"#7201a8\"], [0.3333333333333333, \"#9c179e\"], [0.4444444444444444, \"#bd3786\"], [0.5555555555555556, \"#d8576b\"], [0.6666666666666666, \"#ed7953\"], [0.7777777777777778, \"#fb9f3a\"], [0.8888888888888888, \"#fdca26\"], [1.0, \"#f0f921\"]], \"type\": \"histogram2dcontour\"}], \"mesh3d\": [{\"colorbar\": {\"outlinewidth\": 0, \"ticks\": \"\"}, \"type\": \"mesh3d\"}], \"parcoords\": [{\"line\": {\"colorbar\": {\"outlinewidth\": 0, \"ticks\": \"\"}}, \"type\": \"parcoords\"}], \"pie\": [{\"automargin\": true, \"type\": \"pie\"}], \"scatter\": [{\"marker\": {\"colorbar\": {\"outlinewidth\": 0, \"ticks\": \"\"}}, \"type\": \"scatter\"}], \"scatter3d\": [{\"line\": {\"colorbar\": {\"outlinewidth\": 0, \"ticks\": \"\"}}, \"marker\": {\"colorbar\": {\"outlinewidth\": 0, \"ticks\": \"\"}}, \"type\": \"scatter3d\"}], \"scattercarpet\": [{\"marker\": {\"colorbar\": {\"outlinewidth\": 0, \"ticks\": \"\"}}, \"type\": \"scattercarpet\"}], \"scattergeo\": [{\"marker\": {\"colorbar\": {\"outlinewidth\": 0, \"ticks\": \"\"}}, \"type\": \"scattergeo\"}], \"scattergl\": [{\"marker\": {\"colorbar\": {\"outlinewidth\": 0, \"ticks\": \"\"}}, \"type\": \"scattergl\"}], \"scattermapbox\": [{\"marker\": {\"colorbar\": {\"outlinewidth\": 0, \"ticks\": \"\"}}, \"type\": \"scattermapbox\"}], \"scatterpolar\": [{\"marker\": {\"colorbar\": {\"outlinewidth\": 0, \"ticks\": \"\"}}, \"type\": \"scatterpolar\"}], \"scatterpolargl\": [{\"marker\": {\"colorbar\": {\"outlinewidth\": 0, \"ticks\": \"\"}}, \"type\": \"scatterpolargl\"}], \"scatterternary\": [{\"marker\": {\"colorbar\": {\"outlinewidth\": 0, \"ticks\": \"\"}}, \"type\": \"scatterternary\"}], \"surface\": [{\"colorbar\": {\"outlinewidth\": 0, \"ticks\": \"\"}, \"colorscale\": [[0.0, \"#0d0887\"], [0.1111111111111111, \"#46039f\"], [0.2222222222222222, \"#7201a8\"], [0.3333333333333333, \"#9c179e\"], [0.4444444444444444, \"#bd3786\"], [0.5555555555555556, \"#d8576b\"], [0.6666666666666666, \"#ed7953\"], [0.7777777777777778, \"#fb9f3a\"], [0.8888888888888888, \"#fdca26\"], [1.0, \"#f0f921\"]], \"type\": \"surface\"}], \"table\": [{\"cells\": {\"fill\": {\"color\": \"#EBF0F8\"}, \"line\": {\"color\": \"white\"}}, \"header\": {\"fill\": {\"color\": \"#C8D4E3\"}, \"line\": {\"color\": \"white\"}}, \"type\": \"table\"}]}, \"layout\": {\"annotationdefaults\": {\"arrowcolor\": \"#2a3f5f\", \"arrowhead\": 0, \"arrowwidth\": 1}, \"coloraxis\": {\"colorbar\": {\"outlinewidth\": 0, \"ticks\": \"\"}}, \"colorscale\": {\"diverging\": [[0, \"#8e0152\"], [0.1, \"#c51b7d\"], [0.2, \"#de77ae\"], [0.3, \"#f1b6da\"], [0.4, \"#fde0ef\"], [0.5, \"#f7f7f7\"], [0.6, \"#e6f5d0\"], [0.7, \"#b8e186\"], [0.8, \"#7fbc41\"], [0.9, \"#4d9221\"], [1, \"#276419\"]], \"sequential\": [[0.0, \"#0d0887\"], [0.1111111111111111, \"#46039f\"], [0.2222222222222222, \"#7201a8\"], [0.3333333333333333, \"#9c179e\"], [0.4444444444444444, \"#bd3786\"], [0.5555555555555556, \"#d8576b\"], [0.6666666666666666, \"#ed7953\"], [0.7777777777777778, \"#fb9f3a\"], [0.8888888888888888, \"#fdca26\"], [1.0, \"#f0f921\"]], \"sequentialminus\": [[0.0, \"#0d0887\"], [0.1111111111111111, \"#46039f\"], [0.2222222222222222, \"#7201a8\"], [0.3333333333333333, \"#9c179e\"], [0.4444444444444444, \"#bd3786\"], [0.5555555555555556, \"#d8576b\"], [0.6666666666666666, \"#ed7953\"], [0.7777777777777778, \"#fb9f3a\"], [0.8888888888888888, \"#fdca26\"], [1.0, \"#f0f921\"]]}, \"colorway\": [\"#636efa\", \"#EF553B\", \"#00cc96\", \"#ab63fa\", \"#FFA15A\", \"#19d3f3\", \"#FF6692\", \"#B6E880\", \"#FF97FF\", \"#FECB52\"], \"font\": {\"color\": \"#2a3f5f\"}, \"geo\": {\"bgcolor\": \"white\", \"lakecolor\": \"white\", \"landcolor\": \"#E5ECF6\", \"showlakes\": true, \"showland\": true, \"subunitcolor\": \"white\"}, \"hoverlabel\": {\"align\": \"left\"}, \"hovermode\": \"closest\", \"mapbox\": {\"style\": \"light\"}, \"paper_bgcolor\": \"white\", \"plot_bgcolor\": \"#E5ECF6\", \"polar\": {\"angularaxis\": {\"gridcolor\": \"white\", \"linecolor\": \"white\", \"ticks\": \"\"}, \"bgcolor\": \"#E5ECF6\", \"radialaxis\": {\"gridcolor\": \"white\", \"linecolor\": \"white\", \"ticks\": \"\"}}, \"scene\": {\"xaxis\": {\"backgroundcolor\": \"#E5ECF6\", \"gridcolor\": \"white\", \"gridwidth\": 2, \"linecolor\": \"white\", \"showbackground\": true, \"ticks\": \"\", \"zerolinecolor\": \"white\"}, \"yaxis\": {\"backgroundcolor\": \"#E5ECF6\", \"gridcolor\": \"white\", \"gridwidth\": 2, \"linecolor\": \"white\", \"showbackground\": true, \"ticks\": \"\", \"zerolinecolor\": \"white\"}, \"zaxis\": {\"backgroundcolor\": \"#E5ECF6\", \"gridcolor\": \"white\", \"gridwidth\": 2, \"linecolor\": \"white\", \"showbackground\": true, \"ticks\": \"\", \"zerolinecolor\": \"white\"}}, \"shapedefaults\": {\"line\": {\"color\": \"#2a3f5f\"}}, \"ternary\": {\"aaxis\": {\"gridcolor\": \"white\", \"linecolor\": \"white\", \"ticks\": \"\"}, \"baxis\": {\"gridcolor\": \"white\", \"linecolor\": \"white\", \"ticks\": \"\"}, \"bgcolor\": \"#E5ECF6\", \"caxis\": {\"gridcolor\": \"white\", \"linecolor\": \"white\", \"ticks\": \"\"}}, \"title\": {\"x\": 0.05}, \"xaxis\": {\"automargin\": true, \"gridcolor\": \"white\", \"linecolor\": \"white\", \"ticks\": \"\", \"title\": {\"standoff\": 15}, \"zerolinecolor\": \"white\", \"zerolinewidth\": 2}, \"yaxis\": {\"automargin\": true, \"gridcolor\": \"white\", \"linecolor\": \"white\", \"ticks\": \"\", \"title\": {\"standoff\": 15}, \"zerolinecolor\": \"white\", \"zerolinewidth\": 2}}}, \"title\": {\"font\": {\"color\": \"#4D5663\"}, \"text\": \"Category/Class Distribution\"}, \"xaxis\": {\"gridcolor\": \"#E1E5ED\", \"linecolor\": \"black\", \"showgrid\": true, \"tickfont\": {\"color\": \"#4D5663\"}, \"title\": {\"font\": {\"color\": \"#4D5663\"}, \"text\": \"category\"}, \"zerolinecolor\": \"#E1E5ED\"}, \"yaxis\": {\"gridcolor\": \"#E1E5ED\", \"linecolor\": \"black\", \"showgrid\": true, \"tickfont\": {\"color\": \"#4D5663\"}, \"title\": {\"font\": {\"color\": \"#4D5663\"}, \"text\": \"count\"}, \"zerolinecolor\": \"#E1E5ED\"}},\n",
       "                        {\"showLink\": true, \"linkText\": \"Export to plot.ly\", \"plotlyServerURL\": \"https://plot.ly\", \"responsive\": true}\n",
       "                    ).then(function(){\n",
       "                            \n",
       "var gd = document.getElementById('0f03f008-08d1-4d5e-bde7-e2db72e7e3ae');\n",
       "var x = new MutationObserver(function (mutations, observer) {{\n",
       "        var display = window.getComputedStyle(gd).display;\n",
       "        if (!display || display === 'none') {{\n",
       "            console.log([gd, 'removed!']);\n",
       "            Plotly.purge(gd);\n",
       "            observer.disconnect();\n",
       "        }}\n",
       "}});\n",
       "\n",
       "// Listen for the removal of the full notebook cells\n",
       "var notebookContainer = gd.closest('#notebook-container');\n",
       "if (notebookContainer) {{\n",
       "    x.observe(notebookContainer, {childList: true});\n",
       "}}\n",
       "\n",
       "// Listen for the clearing of the current output cell\n",
       "var outputEl = gd.closest('.output');\n",
       "if (outputEl) {{\n",
       "    x.observe(outputEl, {childList: true});\n",
       "}}\n",
       "\n",
       "                        })\n",
       "                };\n",
       "                \n",
       "            </script>\n",
       "        </div>\n",
       "</body>\n",
       "</html>"
      ]
     },
     "metadata": {
      "tags": []
     },
     "output_type": "display_data"
    }
   ],
   "source": [
    "# print distribution of category/class\n",
    "df.groupby('category').count()['text'].iplot(\n",
    "    kind='bar',\n",
    "    xTitle='category',\n",
    "    linecolor='black',\n",
    "    yTitle='count',\n",
    "    title='Category/Class Distribution')"
   ]
  },
  {
   "cell_type": "markdown",
   "metadata": {
    "id": "2qIBf1-3dOLG"
   },
   "source": [
    "### Data Cleaning & Normalization"
   ]
  },
  {
   "cell_type": "code",
   "execution_count": 53,
   "metadata": {
    "id": "6Fdc5xtkdQ1R"
   },
   "outputs": [],
   "source": [
    "PUNCT_TO_REMOVE = string.punctuation\n",
    "STOPWORDS = stopwords.words(\"english\")\n",
    "\n",
    "def preprocess(text):\n",
    "  # convert text to lower\n",
    "  text = text.lower()\n",
    "  # remove username (using @), URLs and hastag\n",
    "  text = re.sub(\"@\\S+|http\\S+|#\\S+\", \"\", text)\n",
    "  # get rid of non words and extra spaces\n",
    "  text = re.sub('\\\\W', ' ', text)\n",
    "  text = re.sub('(?<=[a-z])\\'(?=[a-z])', '', text)\n",
    "  text = re.sub(\"(?<=[a-z])'(?=[a-z])\", \"\", text)\n",
    "  text = re.sub('\\n', '', text)\n",
    "  text = re.sub(' +', ' ', text)\n",
    "  text = re.sub('^ ', '', text)\n",
    "  text = re.sub(' $', '', text)\n",
    "  # remove punctuactions\n",
    "  text.translate(str.maketrans('', '', PUNCT_TO_REMOVE))\n",
    "  # convert into ascii\n",
    "  text = unidecode(text)\n",
    "  # tokenized\n",
    "  tokenized = word_tokenize(text)\n",
    "  # remove stopwords\n",
    "  remove_stopwords = [token for token in tokenized if token.isalnum() and token not in STOPWORDS]\n",
    "  # clean_token = [token for token in tokenized if token.isalnum()]\n",
    "  clean_string = \" \".join(remove_stopwords)\n",
    "  return clean_string"
   ]
  },
  {
   "cell_type": "code",
   "execution_count": 54,
   "metadata": {
    "colab": {
     "base_uri": "https://localhost:8080/",
     "height": 205
    },
    "id": "Ue5AukxjdykZ",
    "outputId": "e1fbc45d-fb00-41a8-f12d-2c4653d69c92"
   },
   "outputs": [
    {
     "data": {
      "text/html": [
       "<div>\n",
       "<style scoped>\n",
       "    .dataframe tbody tr th:only-of-type {\n",
       "        vertical-align: middle;\n",
       "    }\n",
       "\n",
       "    .dataframe tbody tr th {\n",
       "        vertical-align: top;\n",
       "    }\n",
       "\n",
       "    .dataframe thead th {\n",
       "        text-align: right;\n",
       "    }\n",
       "</style>\n",
       "<table border=\"1\" class=\"dataframe\">\n",
       "  <thead>\n",
       "    <tr style=\"text-align: right;\">\n",
       "      <th></th>\n",
       "      <th>category</th>\n",
       "      <th>text</th>\n",
       "      <th>text_preprocessed</th>\n",
       "    </tr>\n",
       "  </thead>\n",
       "  <tbody>\n",
       "    <tr>\n",
       "      <th>0</th>\n",
       "      <td>tech</td>\n",
       "      <td>tv future in the hands of viewers with home th...</td>\n",
       "      <td>tv future hands viewers home theatre systems p...</td>\n",
       "    </tr>\n",
       "    <tr>\n",
       "      <th>1</th>\n",
       "      <td>business</td>\n",
       "      <td>worldcom boss  left books alone  former worldc...</td>\n",
       "      <td>worldcom boss left books alone former worldcom...</td>\n",
       "    </tr>\n",
       "    <tr>\n",
       "      <th>2</th>\n",
       "      <td>sport</td>\n",
       "      <td>tigers wary of farrell  gamble  leicester say ...</td>\n",
       "      <td>tigers wary farrell gamble leicester say rushe...</td>\n",
       "    </tr>\n",
       "    <tr>\n",
       "      <th>3</th>\n",
       "      <td>sport</td>\n",
       "      <td>yeading face newcastle in fa cup premiership s...</td>\n",
       "      <td>yeading face newcastle fa cup premiership side...</td>\n",
       "    </tr>\n",
       "    <tr>\n",
       "      <th>4</th>\n",
       "      <td>entertainment</td>\n",
       "      <td>ocean s twelve raids box office ocean s twelve...</td>\n",
       "      <td>ocean twelve raids box office ocean twelve cri...</td>\n",
       "    </tr>\n",
       "  </tbody>\n",
       "</table>\n",
       "</div>"
      ],
      "text/plain": [
       "        category  ...                                  text_preprocessed\n",
       "0           tech  ...  tv future hands viewers home theatre systems p...\n",
       "1       business  ...  worldcom boss left books alone former worldcom...\n",
       "2          sport  ...  tigers wary farrell gamble leicester say rushe...\n",
       "3          sport  ...  yeading face newcastle fa cup premiership side...\n",
       "4  entertainment  ...  ocean twelve raids box office ocean twelve cri...\n",
       "\n",
       "[5 rows x 3 columns]"
      ]
     },
     "execution_count": 54,
     "metadata": {
      "tags": []
     },
     "output_type": "execute_result"
    }
   ],
   "source": [
    "df[\"text_preprocessed\"] = df[\"text\"].apply(lambda text: preprocess(text))\n",
    "df.head()"
   ]
  },
  {
   "cell_type": "code",
   "execution_count": 55,
   "metadata": {
    "colab": {
     "base_uri": "https://localhost:8080/",
     "height": 205
    },
    "id": "qXeiqelkeerX",
    "outputId": "b46a3914-edf5-4618-da1b-dcea937a983f"
   },
   "outputs": [
    {
     "data": {
      "text/html": [
       "<div>\n",
       "<style scoped>\n",
       "    .dataframe tbody tr th:only-of-type {\n",
       "        vertical-align: middle;\n",
       "    }\n",
       "\n",
       "    .dataframe tbody tr th {\n",
       "        vertical-align: top;\n",
       "    }\n",
       "\n",
       "    .dataframe thead th {\n",
       "        text-align: right;\n",
       "    }\n",
       "</style>\n",
       "<table border=\"1\" class=\"dataframe\">\n",
       "  <thead>\n",
       "    <tr style=\"text-align: right;\">\n",
       "      <th></th>\n",
       "      <th>text</th>\n",
       "      <th>text_preprocessed</th>\n",
       "      <th>business</th>\n",
       "      <th>entertainment</th>\n",
       "      <th>politics</th>\n",
       "      <th>sport</th>\n",
       "      <th>tech</th>\n",
       "    </tr>\n",
       "  </thead>\n",
       "  <tbody>\n",
       "    <tr>\n",
       "      <th>0</th>\n",
       "      <td>tv future in the hands of viewers with home th...</td>\n",
       "      <td>tv future hands viewers home theatre systems p...</td>\n",
       "      <td>0</td>\n",
       "      <td>0</td>\n",
       "      <td>0</td>\n",
       "      <td>0</td>\n",
       "      <td>1</td>\n",
       "    </tr>\n",
       "    <tr>\n",
       "      <th>1</th>\n",
       "      <td>worldcom boss  left books alone  former worldc...</td>\n",
       "      <td>worldcom boss left books alone former worldcom...</td>\n",
       "      <td>1</td>\n",
       "      <td>0</td>\n",
       "      <td>0</td>\n",
       "      <td>0</td>\n",
       "      <td>0</td>\n",
       "    </tr>\n",
       "    <tr>\n",
       "      <th>2</th>\n",
       "      <td>tigers wary of farrell  gamble  leicester say ...</td>\n",
       "      <td>tigers wary farrell gamble leicester say rushe...</td>\n",
       "      <td>0</td>\n",
       "      <td>0</td>\n",
       "      <td>0</td>\n",
       "      <td>1</td>\n",
       "      <td>0</td>\n",
       "    </tr>\n",
       "    <tr>\n",
       "      <th>3</th>\n",
       "      <td>yeading face newcastle in fa cup premiership s...</td>\n",
       "      <td>yeading face newcastle fa cup premiership side...</td>\n",
       "      <td>0</td>\n",
       "      <td>0</td>\n",
       "      <td>0</td>\n",
       "      <td>1</td>\n",
       "      <td>0</td>\n",
       "    </tr>\n",
       "    <tr>\n",
       "      <th>4</th>\n",
       "      <td>ocean s twelve raids box office ocean s twelve...</td>\n",
       "      <td>ocean twelve raids box office ocean twelve cri...</td>\n",
       "      <td>0</td>\n",
       "      <td>1</td>\n",
       "      <td>0</td>\n",
       "      <td>0</td>\n",
       "      <td>0</td>\n",
       "    </tr>\n",
       "  </tbody>\n",
       "</table>\n",
       "</div>"
      ],
      "text/plain": [
       "                                                text  ... tech\n",
       "0  tv future in the hands of viewers with home th...  ...    1\n",
       "1  worldcom boss  left books alone  former worldc...  ...    0\n",
       "2  tigers wary of farrell  gamble  leicester say ...  ...    0\n",
       "3  yeading face newcastle in fa cup premiership s...  ...    0\n",
       "4  ocean s twelve raids box office ocean s twelve...  ...    0\n",
       "\n",
       "[5 rows x 7 columns]"
      ]
     },
     "execution_count": 55,
     "metadata": {
      "tags": []
     },
     "output_type": "execute_result"
    }
   ],
   "source": [
    "# data category one-hot-encoding\n",
    "category = pd.get_dummies(df.category)\n",
    "df_category = pd.concat([df, category], axis=1)\n",
    "df_category = df_category.drop(columns='category')\n",
    "df_category.head()"
   ]
  },
  {
   "cell_type": "code",
   "execution_count": 56,
   "metadata": {
    "id": "7I3Uy95NetO0"
   },
   "outputs": [],
   "source": [
    "# change dataframe value to numpy array\n",
    "text_preprocessed = df_category['text_preprocessed'].values\n",
    "label = df_category[['business', 'entertainment', 'politics', 'sport', 'tech']].values"
   ]
  },
  {
   "cell_type": "code",
   "execution_count": 57,
   "metadata": {
    "colab": {
     "base_uri": "https://localhost:8080/"
    },
    "id": "y6BjgWVOfUey",
    "outputId": "6f31fc40-beaa-40ab-e359-f2feaed30f54"
   },
   "outputs": [
    {
     "data": {
      "text/plain": [
       "array(['tv future hands viewers home theatre systems plasma high definition tvs digital video recorders moving living room way people watch tv radically different five years time according expert panel gathered annual consumer electronics show las vegas discuss new technologies impact one favourite pastimes us leading trend programmes content delivered viewers via home networks cable satellite telecoms companies broadband service providers front rooms portable devices one talked technologies ces digital personal video recorders dvr pvr set top boxes like us tivo uk sky system allow people record store play pause forward wind tv programmes want essentially technology allows much personalised tv also built high definition tv sets big business japan us slower take europe lack high definition programming people forward wind adverts also forget abiding network channel schedules putting together la carte entertainment us networks cable satellite companies worried means terms advertising revenues well brand identity viewer loyalty channels although us leads technology moment also concern raised europe particularly growing uptake services like sky happens today see nine months years time uk adam hume bbc broadcast futurologist told bbc news website likes bbc issues lost advertising revenue yet pressing issue moment commercial uk broadcasters brand loyalty important everyone talking content brands rather network brands said tim hanlon brand communications firm starcom mediavest reality broadband connections anybody producer content added challenge hard promote programme much choice means said stacey jolna senior vice president tv guide tv group way people find content want watch simplified tv viewers means networks us terms channels could take leaf google book search engine future instead scheduler help people find want watch kind channel model might work younger ipod generation used taking control gadgets play might suit everyone panel recognised older generations comfortable familiar schedules channel brands know getting perhaps want much choice put hands mr hanlon suggested end kids diapers pushing buttons already everything possible available said mr hanlon ultimately consumer tell market want 50 000 new gadgets technologies showcased ces many enhancing tv watching experience high definition tv sets everywhere many new models lcd liquid crystal display tvs launched dvr capability built instead external boxes one example launched show humax 26 inch lcd tv 80 hour tivo dvr dvd recorder one us biggest satellite tv companies directtv even launched branded dvr show 100 hours recording capability instant replay search function set pause rewind tv 90 hours microsoft chief bill gates announced pre show keynote speech partnership tivo called tivotogo means people play recorded programmes windows pcs mobile devices reflect increasing trend freeing multimedia people watch want want',\n",
       "       'worldcom boss left books alone former worldcom boss bernie ebbers accused overseeing 11bn 5 8bn fraud never made accounting decisions witness told jurors david myers made comments questioning defence lawyers arguing mr ebbers responsible worldcom problems phone company collapsed 2002 prosecutors claim losses hidden protect firm shares mr myers already pleaded guilty fraud assisting prosecutors monday defence lawyer reid weingarten tried distance client allegations cross examination asked mr myers ever knew mr ebbers make accounting decision aware mr myers replied ever know mr ebbers make accounting entry worldcom books mr weingarten pressed replied witness mr myers admitted ordered false accounting entries request former worldcom chief financial officer scott sullivan defence lawyers trying paint mr sullivan admitted fraud testify later trial mastermind behind worldcom accounting house cards mr ebbers team meanwhile looking portray affable boss admission pe graduate economist whatever abilities mr ebbers transformed worldcom relative unknown 160bn telecoms giant investor darling late 1990s worldcom problems mounted however competition increased telecoms boom petered firm finally collapsed shareholders lost 180bn 20 000 workers lost jobs mr ebbers trial expected last two months found guilty former ceo faces substantial jail sentence firmly declared innocence',\n",
       "       'tigers wary farrell gamble leicester say rushed making bid andy farrell great britain rugby league captain decide switch codes anybody else involved process still way away going next stage tigers boss john wells told bbc radio leicester moment still lot unknowns andy farrell least medical situation whoever take going take big big gamble farrell persistent knee problems operation knee five weeks ago expected another three months leicester saracens believed head list rugby union clubs interested signing farrell decides move 15 man game move across union wells believes would better playing backs least initially sure could make step league union involved centre said wells think england would prefer progress position back row make use rugby league skills within forwards jury whether cross divide club balance struck cost gamble option bringing ready made replacement',\n",
       "       ...,\n",
       "       'rem announce new glasgow concert us band rem announced plans perform 10 000 scottish fans rescheduled gig band play dubbed europe biggest tent glasgow green tuesday 14 june forced pull concert secc glasgow last month bassist mike mills contracted flu fans bought tickets original 22 february show attend rescheduled concert june gig act warm rem open air concert balloch castle country park banks loch lomond four days later promoters regular music booked glasgow green secc available suitable date mark mackie director regular music said fantastic news really shows rem commitment scottish fans coming back glasgow truly unique gig rem gigs kick start promises memorable summer scottish music lovers grammy award winners u2 play hampden 21 june oasis also perform national stadium glasgow 29 june coldplay announced concert bellahouston park glasgow 1 july park held balado near kinross 9 10 july ticketweb secc box office write customers bought tickets february gig asking want attend new show bought tickets person urged return point purchase anyone make concert given refund cut date swapping tickets 1 april remaining go sale public',\n",
       "       'political squabbles snowball become commonplace argue blair brown like squabbling school kids supporters need grow stop bickering analysis fact gets wrong children fight adults solid reasons even trivial argument mature protagonists hard stop got going key feature endless feud everyone agree better ended everyone wants last word participant genuinely wants row stop thinks worth prolonging argument tiny bit ensure view heard successive attempts end argument last word ensure argument goes case mr blair mr brown successive books published ensuring issues never die participants stupid actually individual behaving entirely rationally given incentives facing indeed even piece economic theory explains nothing obscure post neo classical endogenous growth theory chancellor quoted ubiquitous piece game theory respectable policy wonks familiar often referred prisoner dilemma based parable much told economics degree courses sheriff two prisoners story goes two prisoners jointly charged heinous crime locked separate cells sheriff desperately needs confession least one provide enough evidence convict crime without confession prisoners get minimal sentence trumped charge clearly prisoners best strategy keep mouths shut take short sentence clever sheriff idea induce talk tells prisoner separately confess one confess let crime tells confess one confess get life prisoner confronted choice best bet confess partner confess get completely partner confess better confess ensure get life result course prisoners confess sheriff let either one prisoners individual logic behave way even though would better somehow agreed shut worry entirely follow look google 283 000 entries prisoners dilemma ramifications truly captured economists last couple decades parable used describe situation obvious sensible choice taken collectively rational choice individually behave selfishly cold war arms race example classic case russia america would better arms rather lot arms long wants arms arms race ensues results individually logical decision buy arms results arms levels high economics tells us prisoners dilemma unless repeating experience many times hard escape perverse logic good exhorting people stop buying arms stop arguing incentives encourage carry somehow incentives change case labour party believe rift blair brown camps bad reports suggest solomon wisdom needs deployed solve problem every parent knows ingenious solutions arguments solutions affect incentives participants example famous rule one divides chooses way allocating piece cake sliced greedy children case apparently endless argument want come end ensure person last word one loses rather one wins row cost prolonging row even one briefing one book matter exceed benefit last word getting point rest party enforce protagonists retreating pretty quickly',\n",
       "       'souness delight euro progress boss graeme souness felt newcastle never really danger going uefa cup heerenveen early goal followed alan shearer strike earned 2 1 win place uefa cup last 16 obviously winning first leg gave us great advantage said 4 2 aggregate victory got goals early minds players job done got goal perhaps made us bit nervous shearer goal moved within 12 jackie milburn club scoring record 200 magpies souness said think beating record would bearing decision retire end season think got year would want stay next year anyway added struck ball well always done think power pace beat goalkeeper souness also paid tribute laurent robert heart much united attacking play first half really well everything want wide player future please said'],\n",
       "      dtype=object)"
      ]
     },
     "execution_count": 57,
     "metadata": {
      "tags": []
     },
     "output_type": "execute_result"
    }
   ],
   "source": [
    "# view text preprocessed array\n",
    "text_preprocessed"
   ]
  },
  {
   "cell_type": "code",
   "execution_count": 58,
   "metadata": {
    "colab": {
     "base_uri": "https://localhost:8080/"
    },
    "id": "kt-3eX71fZ0v",
    "outputId": "af455030-6556-4d84-a7a6-89eca2019977"
   },
   "outputs": [
    {
     "data": {
      "text/plain": [
       "array([[0, 0, 0, 0, 1],\n",
       "       [1, 0, 0, 0, 0],\n",
       "       [0, 0, 0, 1, 0],\n",
       "       ...,\n",
       "       [0, 1, 0, 0, 0],\n",
       "       [0, 0, 1, 0, 0],\n",
       "       [0, 0, 0, 1, 0]], dtype=uint8)"
      ]
     },
     "execution_count": 58,
     "metadata": {
      "tags": []
     },
     "output_type": "execute_result"
    }
   ],
   "source": [
    "# view label array\n",
    "label"
   ]
  },
  {
   "cell_type": "markdown",
   "metadata": {
    "id": "PJcV525hictO"
   },
   "source": [
    "### Data Spliting"
   ]
  },
  {
   "cell_type": "code",
   "execution_count": 59,
   "metadata": {
    "id": "D2xs4JcwfhXy"
   },
   "outputs": [],
   "source": [
    "# split data into training and validation\n",
    "x_train, x_test, y_train, y_test = train_test_split(text_preprocessed, label, test_size=0.2, shuffle=True)"
   ]
  },
  {
   "cell_type": "markdown",
   "metadata": {
    "id": "soBBVlzahdGC"
   },
   "source": [
    "### Tokenizing and Pad Sequence"
   ]
  },
  {
   "cell_type": "code",
   "execution_count": 60,
   "metadata": {
    "id": "C6bOVaWTfmp5"
   },
   "outputs": [],
   "source": [
    "# tokinizer\n",
    "tokenizer = Tokenizer()\n",
    "# preparing vocubulary\n",
    "tokenizer.fit_on_texts(list(x_train))\n",
    "\n",
    "# converting text into integer sequences\n",
    "sekuens_train = tokenizer.texts_to_sequences(x_train)\n",
    "sekuens_test = tokenizer.texts_to_sequences(x_test)\n",
    "\n",
    "# padding to prepare sequences of same length\n",
    "padded_train = pad_sequences(sekuens_train, maxlen=100)\n",
    "padded_test = pad_sequences(sekuens_test, maxlen=100)"
   ]
  },
  {
   "cell_type": "code",
   "execution_count": 61,
   "metadata": {
    "colab": {
     "base_uri": "https://localhost:8080/"
    },
    "id": "jqigvBErfq3U",
    "outputId": "da58387a-b421-43f1-ccf6-1737b73c44eb"
   },
   "outputs": [
    {
     "name": "stdout",
     "output_type": "stream",
     "text": [
      "Size of vocabulary: 26856\n"
     ]
    }
   ],
   "source": [
    "# get size of vocabulary for embedding input dimension\n",
    "size_of_vocabulary=len(tokenizer.word_index) + 1 #+1 for padding\n",
    "print('Size of vocabulary:', size_of_vocabulary)"
   ]
  },
  {
   "cell_type": "markdown",
   "metadata": {
    "id": "1uDDcAx3ecWU"
   },
   "source": [
    "## Modeling"
   ]
  },
  {
   "cell_type": "code",
   "execution_count": 182,
   "metadata": {
    "id": "Vewc3-ajf1w3"
   },
   "outputs": [],
   "source": [
    "def ModelLSTM():\n",
    "  model = Sequential()\n",
    "\n",
    "  model.add(Embedding(input_dim=size_of_vocabulary, output_dim=100, input_length=100))\n",
    "  model.add(SpatialDropout1D(0.2))\n",
    "  model.add(Bidirectional(LSTM(128, dropout=0.2, recurrent_dropout=0.2, return_sequences = True)))\n",
    "  model.add(Bidirectional(LSTM(32)))\n",
    "  model.add(Dense(64, activation = \"relu\"))\n",
    "  model.add(Dense(NUM_CLASS, activation = \"softmax\"))\n",
    "\n",
    "  optimizer = Adam()\n",
    "  model.compile(optimizer=optimizer,\n",
    "                loss='categorical_crossentropy',\n",
    "                metrics=['accuracy'])\n",
    "\n",
    "  return model"
   ]
  },
  {
   "cell_type": "code",
   "execution_count": 183,
   "metadata": {
    "colab": {
     "base_uri": "https://localhost:8080/",
     "height": 828
    },
    "id": "aIKXXv6fjSa9",
    "outputId": "db056684-bdb7-4b17-c0b5-ad07d0b4b309"
   },
   "outputs": [
    {
     "name": "stdout",
     "output_type": "stream",
     "text": [
      "WARNING:tensorflow:Layer lstm_34 will not use cuDNN kernels since it doesn't meet the criteria. It will use a generic GPU kernel as fallback when running on GPU.\n",
      "WARNING:tensorflow:Layer lstm_34 will not use cuDNN kernels since it doesn't meet the criteria. It will use a generic GPU kernel as fallback when running on GPU.\n",
      "WARNING:tensorflow:Layer lstm_34 will not use cuDNN kernels since it doesn't meet the criteria. It will use a generic GPU kernel as fallback when running on GPU.\n"
     ]
    },
    {
     "data": {
      "image/png": "[encoded data removed]",
      "text/plain": [
       "<IPython.core.display.Image object>"
      ]
     },
     "execution_count": 183,
     "metadata": {
      "tags": []
     },
     "output_type": "execute_result"
    }
   ],
   "source": [
    "# Visualize LSTM model\n",
    "plot_model(ModelLSTM(), to_file=os.path.join(BASE_PATH, 'visualization/LSTM.png'), show_shapes=True)"
   ]
  },
  {
   "cell_type": "markdown",
   "metadata": {
    "id": "ilZKqEg4l_q0"
   },
   "source": [
    "## Training"
   ]
  },
  {
   "cell_type": "code",
   "execution_count": 184,
   "metadata": {
    "id": "CqlvrNdgmBDK"
   },
   "outputs": [],
   "source": [
    "# Adding callbacks\n",
    "train_id = 'LSTM-' + str(uuid.uuid1())\n",
    "best_model = os.path.join(BASE_PATH, 'model/best_model-' + train_id + '.h5')\n",
    "last_model = os.path.join(BASE_PATH, 'model/last_model-' + train_id + '.h5')\n",
    "csv_log = os.path.join(BASE_PATH, 'monitor/logs-' + train_id + '.h5')\n",
    "\n",
    "ES = EarlyStopping(monitor='val_loss', mode='min', verbose=1, patience=5)\n",
    "MC = ModelCheckpoint(best_model, monitor='val_accuracy', mode='max', save_best_only=True, verbose=1)\n",
    "CSVL = CSVLogger(csv_log, separator=\",\", append=True)\n",
    "\n",
    "callbacks = [MC, ES, CSVL]"
   ]
  },
  {
   "cell_type": "code",
   "execution_count": 185,
   "metadata": {
    "colab": {
     "base_uri": "https://localhost:8080/",
     "height": 1000
    },
    "id": "LsprEKqWmIEm",
    "outputId": "00e0ac5c-631b-4f8a-be24-892cec45b1d7"
   },
   "outputs": [
    {
     "name": "stdout",
     "output_type": "stream",
     "text": [
      "Training strated with Train ID: LSTM-25aad1d0-e18c-11eb-a6e4-0242ac1c0002\n",
      "WARNING:tensorflow:Layer lstm_36 will not use cuDNN kernels since it doesn't meet the criteria. It will use a generic GPU kernel as fallback when running on GPU.\n",
      "WARNING:tensorflow:Layer lstm_36 will not use cuDNN kernels since it doesn't meet the criteria. It will use a generic GPU kernel as fallback when running on GPU.\n",
      "WARNING:tensorflow:Layer lstm_36 will not use cuDNN kernels since it doesn't meet the criteria. It will use a generic GPU kernel as fallback when running on GPU.\n",
      "Epoch 1/50\n",
      "14/14 [==============================] - 24s 1s/step - loss: 1.6032 - accuracy: 0.2337 - val_loss: 1.5534 - val_accuracy: 0.4247\n",
      "\n",
      "Epoch 00001: val_accuracy improved from -inf to 0.42472, saving model to /content/drive/MyDrive/Playground/BBCNews/model/best_model-LSTM-25aad1d0-e18c-11eb-a6e4-0242ac1c0002.h5\n",
      "Epoch 2/50\n",
      "14/14 [==============================] - 12s 850ms/step - loss: 1.4064 - accuracy: 0.4113 - val_loss: 0.8975 - val_accuracy: 0.6584\n",
      "\n",
      "Epoch 00002: val_accuracy improved from 0.42472 to 0.65843, saving model to /content/drive/MyDrive/Playground/BBCNews/model/best_model-LSTM-25aad1d0-e18c-11eb-a6e4-0242ac1c0002.h5\n",
      "Epoch 3/50\n",
      "14/14 [==============================] - 11s 815ms/step - loss: 0.7660 - accuracy: 0.7224 - val_loss: 0.6554 - val_accuracy: 0.8067\n",
      "\n",
      "Epoch 00003: val_accuracy improved from 0.65843 to 0.80674, saving model to /content/drive/MyDrive/Playground/BBCNews/model/best_model-LSTM-25aad1d0-e18c-11eb-a6e4-0242ac1c0002.h5\n",
      "Epoch 4/50\n",
      "14/14 [==============================] - 12s 821ms/step - loss: 0.4044 - accuracy: 0.9087 - val_loss: 0.4411 - val_accuracy: 0.8404\n",
      "\n",
      "Epoch 00004: val_accuracy improved from 0.80674 to 0.84045, saving model to /content/drive/MyDrive/Playground/BBCNews/model/best_model-LSTM-25aad1d0-e18c-11eb-a6e4-0242ac1c0002.h5\n",
      "Epoch 5/50\n",
      "14/14 [==============================] - 11s 816ms/step - loss: 0.1455 - accuracy: 0.9648 - val_loss: 0.3552 - val_accuracy: 0.8899\n",
      "\n",
      "Epoch 00005: val_accuracy improved from 0.84045 to 0.88989, saving model to /content/drive/MyDrive/Playground/BBCNews/model/best_model-LSTM-25aad1d0-e18c-11eb-a6e4-0242ac1c0002.h5\n",
      "Epoch 6/50\n",
      "14/14 [==============================] - 11s 814ms/step - loss: 0.0569 - accuracy: 0.9858 - val_loss: 0.4140 - val_accuracy: 0.8831\n",
      "\n",
      "Epoch 00006: val_accuracy did not improve from 0.88989\n",
      "Epoch 7/50\n",
      "14/14 [==============================] - 11s 794ms/step - loss: 0.0327 - accuracy: 0.9933 - val_loss: 0.5754 - val_accuracy: 0.8719\n",
      "\n",
      "Epoch 00007: val_accuracy did not improve from 0.88989\n",
      "Epoch 8/50\n",
      "14/14 [==============================] - 11s 811ms/step - loss: 0.0412 - accuracy: 0.9836 - val_loss: 0.4045 - val_accuracy: 0.8989\n",
      "\n",
      "Epoch 00008: val_accuracy improved from 0.88989 to 0.89888, saving model to /content/drive/MyDrive/Playground/BBCNews/model/best_model-LSTM-25aad1d0-e18c-11eb-a6e4-0242ac1c0002.h5\n",
      "Epoch 9/50\n",
      "14/14 [==============================] - 11s 806ms/step - loss: 0.0172 - accuracy: 0.9975 - val_loss: 0.3797 - val_accuracy: 0.9056\n",
      "\n",
      "Epoch 00009: val_accuracy improved from 0.89888 to 0.90562, saving model to /content/drive/MyDrive/Playground/BBCNews/model/best_model-LSTM-25aad1d0-e18c-11eb-a6e4-0242ac1c0002.h5\n",
      "Epoch 10/50\n",
      "14/14 [==============================] - 11s 813ms/step - loss: 0.0102 - accuracy: 0.9992 - val_loss: 0.4498 - val_accuracy: 0.9101\n",
      "\n",
      "Epoch 00010: val_accuracy improved from 0.90562 to 0.91011, saving model to /content/drive/MyDrive/Playground/BBCNews/model/best_model-LSTM-25aad1d0-e18c-11eb-a6e4-0242ac1c0002.h5\n",
      "Epoch 00010: early stopping\n",
      "==============================\n",
      "Training Finished, took 2m 12s\n",
      "Best model: /content/drive/MyDrive/Playground/BBCNews/model/best_model-LSTM-25aad1d0-e18c-11eb-a6e4-0242ac1c0002.h5\n",
      "Last model: /content/drive/MyDrive/Playground/BBCNews/model/last_model-LSTM-25aad1d0-e18c-11eb-a6e4-0242ac1c0002.h5\n"
     ]
    },
    {
     "data": {
      "text/markdown": [
       "### Training Loss and Accuracy"
      ],
      "text/plain": [
       "<IPython.core.display.Markdown object>"
      ]
     },
     "metadata": {
      "tags": []
     },
     "output_type": "display_data"
    },
    {
     "data": {
      "image/png": "[encoded data removed]",
      "text/plain": [
       "<Figure size 576x432 with 1 Axes>"
      ]
     },
     "metadata": {
      "needs_background": "light",
      "tags": []
     },
     "output_type": "display_data"
    },
    {
     "data": {
      "text/plain": [
       "<Figure size 432x288 with 0 Axes>"
      ]
     },
     "metadata": {
      "tags": []
     },
     "output_type": "display_data"
    },
    {
     "data": {
      "image/png": "[encoded data removed]",
      "text/plain": [
       "<Figure size 576x432 with 1 Axes>"
      ]
     },
     "metadata": {
      "needs_background": "light",
      "tags": []
     },
     "output_type": "display_data"
    },
    {
     "name": "stdout",
     "output_type": "stream",
     "text": [
      "Load best model to evaluate ...\n",
      "WARNING:tensorflow:Layer lstm_36 will not use cuDNN kernels since it doesn't meet the criteria. It will use a generic GPU kernel as fallback when running on GPU.\n",
      "WARNING:tensorflow:Layer lstm_36 will not use cuDNN kernels since it doesn't meet the criteria. It will use a generic GPU kernel as fallback when running on GPU.\n",
      "WARNING:tensorflow:Layer lstm_36 will not use cuDNN kernels since it doesn't meet the criteria. It will use a generic GPU kernel as fallback when running on GPU.\n"
     ]
    },
    {
     "data": {
      "text/markdown": [
       "### Training Accuracy"
      ],
      "text/plain": [
       "<IPython.core.display.Markdown object>"
      ]
     },
     "metadata": {
      "tags": []
     },
     "output_type": "display_data"
    },
    {
     "name": "stdout",
     "output_type": "stream",
     "text": [
      "56/56 [==============================] - 6s 57ms/step - loss: 0.0041 - accuracy: 1.0000\n",
      "loss: 0.41\n",
      "acc: 100.00\n"
     ]
    },
    {
     "data": {
      "text/markdown": [
       "### Validation Accuracy"
      ],
      "text/plain": [
       "<IPython.core.display.Markdown object>"
      ]
     },
     "metadata": {
      "tags": []
     },
     "output_type": "display_data"
    },
    {
     "name": "stdout",
     "output_type": "stream",
     "text": [
      "14/14 [==============================] - 1s 58ms/step - loss: 0.4498 - accuracy: 0.9101\n",
      "loss: 44.98\n",
      "acc: 91.01\n"
     ]
    },
    {
     "data": {
      "text/markdown": [
       "### Evaluation of Model Performance"
      ],
      "text/plain": [
       "<IPython.core.display.Markdown object>"
      ]
     },
     "metadata": {
      "tags": []
     },
     "output_type": "display_data"
    },
    {
     "name": "stdout",
     "output_type": "stream",
     "text": [
      "14/14 [==============================] - 3s 57ms/step\n"
     ]
    },
    {
     "data": {
      "text/markdown": [
       "#### Classification Report"
      ],
      "text/plain": [
       "<IPython.core.display.Markdown object>"
      ]
     },
     "metadata": {
      "tags": []
     },
     "output_type": "display_data"
    },
    {
     "name": "stdout",
     "output_type": "stream",
     "text": [
      "               precision    recall  f1-score   support\n",
      "\n",
      "     business       0.98      0.86      0.92       101\n",
      "entertainment       0.95      0.87      0.91        69\n",
      "     politics       0.79      0.93      0.85        85\n",
      "        sport       0.95      1.00      0.98        99\n",
      "         tech       0.91      0.87      0.89        91\n",
      "\n",
      "    micro avg       0.91      0.91      0.91       445\n",
      "    macro avg       0.92      0.91      0.91       445\n",
      " weighted avg       0.92      0.91      0.91       445\n",
      "  samples avg       0.91      0.91      0.91       445\n",
      "\n",
      "Accuracy: 0.91\n",
      "\n",
      "Macro Precision: 0.92\n",
      "Macro Recall: 0.91\n",
      "Macro F1-score: 0.91\n",
      "\n",
      "Weighted Precision: 0.92\n",
      "Weighted Recall: 0.91\n",
      "Weighted F1-score: 0.91\n",
      "\n"
     ]
    },
    {
     "data": {
      "text/plain": [
       "<Figure size 432x288 with 0 Axes>"
      ]
     },
     "metadata": {
      "tags": []
     },
     "output_type": "display_data"
    }
   ],
   "source": [
    "# Training start time\n",
    "start_time = time.time()\n",
    "\n",
    "print(\"Training strated with Train ID: {}\".format(train_id))\n",
    "\n",
    "model = LSTMv1()\n",
    "history = model.fit(np.array(padded_train), np.array(y_train),\n",
    "                  validation_data=(np.array(padded_test),np.array(y_test)),\n",
    "                  batch_size=BATCH_SIZE,\n",
    "                  epochs=EPOCH,\n",
    "                  verbose=1,\n",
    "                  callbacks=callbacks)\n",
    "\n",
    "# Training complete\n",
    "time_elapsed = time.time() - start_time\n",
    "# Save last model\n",
    "model.save(last_model)\n",
    "\n",
    "print(\"=\" * 30)\n",
    "print(\"Training Finished, took {:.0f}m {:.0f}s\".format(time_elapsed // 60, time_elapsed % 60))\n",
    "print(\"Best model:\", best_model)\n",
    "print(\"Last model:\", last_model)\n",
    "\n",
    "# Plot training and loss accuracy\n",
    "plot_training(history, train_id)\n",
    "\n",
    "# Load best model\n",
    "print(\"Load best model to evaluate ...\")\n",
    "model = load_model(best_model)\n",
    "model_evaluation(train_id, model, padded_train, padded_test, y_train, y_test)"
   ]
  },
  {
   "cell_type": "markdown",
   "metadata": {
    "id": "woIWaCfk26P1"
   },
   "source": [
    "## Prediction"
   ]
  },
  {
   "cell_type": "code",
   "execution_count": 192,
   "metadata": {
    "id": "eOgFKtut28RH"
   },
   "outputs": [],
   "source": [
    "def prediction(model, string):\n",
    "  seq_str = tokenizer.texts_to_sequences(string)\n",
    "  enc_str = sequence.pad_sequences(seq_str, maxlen=100)\n",
    "  pred = model.predict_classes(enc_str)\n",
    "\n",
    "  news_class = ['business', 'entertainment', 'politics', 'sport', 'tech']\n",
    "  label = news_class[pred[0]]\n",
    "\n",
    "  print('String:', string)\n",
    "  print('Prediction:', label)"
   ]
  },
  {
   "cell_type": "code",
   "execution_count": 195,
   "metadata": {
    "colab": {
     "base_uri": "https://localhost:8080/"
    },
    "id": "6aM2tuKo4Dci",
    "outputId": "6d2960b0-3b48-4903-eab8-4674c00a1798"
   },
   "outputs": [
    {
     "name": "stdout",
     "output_type": "stream",
     "text": [
      "String: [\"Pumas full-back Juan Cruz Mallia was shown a red card after 29 minutes for a reckless tackle on Kieran Hardy. The Pumas were trailing 6-3 at the time, but rallied through tries from Pablo Matera and Jeronimo De La Fuente and the boot of Nicolas Sanchez. Tries from Will Rowlands and Tomos Williams helped Wales level the scores. Evans lined up the long-range effort in the final minute, but it went wide after Argentina had also missed three penalty attempts. The two sides will meet in the second Test in Cardiff next Saturday (15:00 BST). Wales were indebted to the 47th-minute introduction of replacement half-backs Tomos Williams and Evans, who helped change the game's complexion after Argentina had dominated the contact area.\"]\n",
      "Prediction: sport\n"
     ]
    }
   ],
   "source": [
    "# try prediction from https://www.bbc.com/sport/rugby-union/57771397 (Published date: 10 Jul 2021)\n",
    "string = [\"Pumas full-back Juan Cruz Mallia was shown a red card after 29 minutes for a reckless tackle on Kieran Hardy. The Pumas were trailing 6-3 at the time, but rallied through tries from Pablo Matera and Jeronimo De La Fuente and the boot of Nicolas Sanchez. Tries from Will Rowlands and Tomos Williams helped Wales level the scores. Evans lined up the long-range effort in the final minute, but it went wide after Argentina had also missed three penalty attempts. The two sides will meet in the second Test in Cardiff next Saturday (15:00 BST). Wales were indebted to the 47th-minute introduction of replacement half-backs Tomos Williams and Evans, who helped change the game's complexion after Argentina had dominated the contact area.\"]\n",
    "\n",
    "prediction(model=model, string=string)"
   ]
  }
 ],
 "metadata": {
  "accelerator": "GPU",
  "colab": {
   "collapsed_sections": [],
   "name": "NLP BBC News Classification based LSTM Algorithm.ipynb",
   "provenance": []
  },
  "kernelspec": {
   "display_name": "Python 3",
   "language": "python",
   "name": "python3"
  },
  "language_info": {
   "codemirror_mode": {
    "name": "ipython",
    "version": 3
   },
   "file_extension": ".py",
   "mimetype": "text/x-python",
   "name": "python",
   "nbconvert_exporter": "python",
   "pygments_lexer": "ipython3",
   "version": "3.8.0"
  }
 },
 "nbformat": 4,
 "nbformat_minor": 1
}
